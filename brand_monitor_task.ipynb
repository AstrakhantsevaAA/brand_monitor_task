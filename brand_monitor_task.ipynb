{
 "cells": [
  {
   "cell_type": "code",
   "execution_count": 1,
   "metadata": {},
   "outputs": [
    {
     "data": {
      "application/javascript": [
       "\n",
       "            setTimeout(function() {\n",
       "                var nbb_cell_id = 1;\n",
       "                var nbb_formatted_code = \"import pandas as pd\\nimport numpy as np\\nfrom tqdm import tqdm_notebook as tqdm\\nfrom nltk.tokenize import WordPunctTokenizer, RegexpTokenizer\\nfrom string import punctuation\\nimport matplotlib.pyplot as plt\\nimport re\\nfrom sklearn.metrics import accuracy_score\\n\\n%load_ext nb_black\\n%matplotlib inline\";\n",
       "                var nbb_cells = Jupyter.notebook.get_cells();\n",
       "                for (var i = 0; i < nbb_cells.length; ++i) {\n",
       "                    if (nbb_cells[i].input_prompt_number == nbb_cell_id) {\n",
       "                        nbb_cells[i].set_text(nbb_formatted_code);\n",
       "                        break;\n",
       "                    }\n",
       "                }\n",
       "            }, 500);\n",
       "            "
      ],
      "text/plain": [
       "<IPython.core.display.Javascript object>"
      ]
     },
     "metadata": {},
     "output_type": "display_data"
    }
   ],
   "source": [
    "import pandas as pd\n",
    "import numpy as np\n",
    "from tqdm import tqdm_notebook as tqdm\n",
    "from nltk.tokenize import WordPunctTokenizer, RegexpTokenizer\n",
    "from string import punctuation\n",
    "import matplotlib.pyplot as plt\n",
    "import re\n",
    "from sklearn.metrics import accuracy_score\n",
    "\n",
    "%load_ext nb_black\n",
    "%matplotlib inline"
   ]
  },
  {
   "cell_type": "markdown",
   "metadata": {},
   "source": [
    "Считываем данные из файла, задаем нужный разделитель \";\" и смотрим наш датафрейм;\n"
   ]
  },
  {
   "cell_type": "code",
   "execution_count": 2,
   "metadata": {},
   "outputs": [
    {
     "data": {
      "text/html": [
       "<div>\n",
       "<style scoped>\n",
       "    .dataframe tbody tr th:only-of-type {\n",
       "        vertical-align: middle;\n",
       "    }\n",
       "\n",
       "    .dataframe tbody tr th {\n",
       "        vertical-align: top;\n",
       "    }\n",
       "\n",
       "    .dataframe thead th {\n",
       "        text-align: right;\n",
       "    }\n",
       "</style>\n",
       "<table border=\"1\" class=\"dataframe\">\n",
       "  <thead>\n",
       "    <tr style=\"text-align: right;\">\n",
       "      <th></th>\n",
       "      <th>Text</th>\n",
       "      <th>Language</th>\n",
       "    </tr>\n",
       "  </thead>\n",
       "  <tbody>\n",
       "    <tr>\n",
       "      <th>0</th>\n",
       "      <td>��👟👟В НАЛИЧИИ 👟👟👟   🇬🇧🇬🇧🇬🇧Reebok🇬🇧🇬🇧🇬🇧   В раз...</td>\n",
       "      <td>ru</td>\n",
       "    </tr>\n",
       "    <tr>\n",
       "      <th>1</th>\n",
       "      <td>Роман Грищенко Кроссфит-атлет, вице-чемпион Бо...</td>\n",
       "      <td>ru</td>\n",
       "    </tr>\n",
       "    <tr>\n",
       "      <th>2</th>\n",
       "      <td>Предлагаю: Коньки фигурные Reebok за 2000руб. ...</td>\n",
       "      <td>ru</td>\n",
       "    </tr>\n",
       "    <tr>\n",
       "      <th>3</th>\n",
       "      <td>28 февраля на территории с. Ивантиеевка и Иван...</td>\n",
       "      <td>ru</td>\n",
       "    </tr>\n",
       "    <tr>\n",
       "      <th>4</th>\n",
       "      <td>Reebok 1000руб 36-41 маломерят на размер</td>\n",
       "      <td>ru</td>\n",
       "    </tr>\n",
       "  </tbody>\n",
       "</table>\n",
       "</div>"
      ],
      "text/plain": [
       "                                                Text Language\n",
       "0  ��👟👟В НАЛИЧИИ 👟👟👟   🇬🇧🇬🇧🇬🇧Reebok🇬🇧🇬🇧🇬🇧   В раз...       ru\n",
       "1  Роман Грищенко Кроссфит-атлет, вице-чемпион Бо...       ru\n",
       "2  Предлагаю: Коньки фигурные Reebok за 2000руб. ...       ru\n",
       "3  28 февраля на территории с. Ивантиеевка и Иван...       ru\n",
       "4           Reebok 1000руб 36-41 маломерят на размер       ru"
      ]
     },
     "execution_count": 2,
     "metadata": {},
     "output_type": "execute_result"
    },
    {
     "data": {
      "application/javascript": [
       "\n",
       "            setTimeout(function() {\n",
       "                var nbb_cell_id = 2;\n",
       "                var nbb_formatted_code = \"df_train = pd.read_csv(\\\"lang_labeled.csv\\\", sep=\\\";\\\", error_bad_lines=False)\\ndf_train.head()\";\n",
       "                var nbb_cells = Jupyter.notebook.get_cells();\n",
       "                for (var i = 0; i < nbb_cells.length; ++i) {\n",
       "                    if (nbb_cells[i].input_prompt_number == nbb_cell_id) {\n",
       "                        nbb_cells[i].set_text(nbb_formatted_code);\n",
       "                        break;\n",
       "                    }\n",
       "                }\n",
       "            }, 500);\n",
       "            "
      ],
      "text/plain": [
       "<IPython.core.display.Javascript object>"
      ]
     },
     "metadata": {},
     "output_type": "display_data"
    }
   ],
   "source": [
    "df_train = pd.read_csv(\"lang_labeled.csv\", sep=\";\", error_bad_lines=False)\n",
    "df_train.head()"
   ]
  },
  {
   "cell_type": "markdown",
   "metadata": {},
   "source": [
    "Проверяем много ли языков задействовано в данных;"
   ]
  },
  {
   "cell_type": "code",
   "execution_count": 3,
   "metadata": {},
   "outputs": [
    {
     "data": {
      "text/plain": [
       "<matplotlib.axes._subplots.AxesSubplot at 0x1a20b627b8>"
      ]
     },
     "execution_count": 3,
     "metadata": {},
     "output_type": "execute_result"
    },
    {
     "data": {
      "image/png": "[encoded data removed]",
      "text/plain": [
       "<Figure size 432x288 with 1 Axes>"
      ]
     },
     "metadata": {
      "needs_background": "light"
     },
     "output_type": "display_data"
    },
    {
     "data": {
      "application/javascript": [
       "\n",
       "            setTimeout(function() {\n",
       "                var nbb_cell_id = 3;\n",
       "                var nbb_formatted_code = \"df_train[\\\"Language\\\"].hist()\";\n",
       "                var nbb_cells = Jupyter.notebook.get_cells();\n",
       "                for (var i = 0; i < nbb_cells.length; ++i) {\n",
       "                    if (nbb_cells[i].input_prompt_number == nbb_cell_id) {\n",
       "                        nbb_cells[i].set_text(nbb_formatted_code);\n",
       "                        break;\n",
       "                    }\n",
       "                }\n",
       "            }, 500);\n",
       "            "
      ],
      "text/plain": [
       "<IPython.core.display.Javascript object>"
      ]
     },
     "metadata": {},
     "output_type": "display_data"
    }
   ],
   "source": [
    "df_labels = df_train.groupby(\"Language\").count()\n",
    "df_labels"
   ]
  },
  {
   "cell_type": "markdown",
   "metadata": {},
   "source": [
    "Много. Такая гистограмма нам не даст особо информации, посмотрим на все языки, которые используются в данных, \n",
    "а так же посмотрим, насколько равномерно распределены языки по датафрейму;"
   ]
  },
  {
   "cell_type": "code",
   "execution_count": 3,
   "metadata": {},
   "outputs": [
    {
     "data": {
      "text/html": [
       "<div>\n",
       "<style scoped>\n",
       "    .dataframe tbody tr th:only-of-type {\n",
       "        vertical-align: middle;\n",
       "    }\n",
       "\n",
       "    .dataframe tbody tr th {\n",
       "        vertical-align: top;\n",
       "    }\n",
       "\n",
       "    .dataframe thead th {\n",
       "        text-align: right;\n",
       "    }\n",
       "</style>\n",
       "<table border=\"1\" class=\"dataframe\">\n",
       "  <thead>\n",
       "    <tr style=\"text-align: right;\">\n",
       "      <th></th>\n",
       "      <th>Text</th>\n",
       "    </tr>\n",
       "    <tr>\n",
       "      <th>Language</th>\n",
       "      <th></th>\n",
       "    </tr>\n",
       "  </thead>\n",
       "  <tbody>\n",
       "    <tr>\n",
       "      <th>aa</th>\n",
       "      <td>11</td>\n",
       "    </tr>\n",
       "    <tr>\n",
       "      <th>ab</th>\n",
       "      <td>11</td>\n",
       "    </tr>\n",
       "    <tr>\n",
       "      <th>be</th>\n",
       "      <td>76</td>\n",
       "    </tr>\n",
       "    <tr>\n",
       "      <th>bg</th>\n",
       "      <td>206</td>\n",
       "    </tr>\n",
       "    <tr>\n",
       "      <th>da</th>\n",
       "      <td>81</td>\n",
       "    </tr>\n",
       "    <tr>\n",
       "      <th>de</th>\n",
       "      <td>37</td>\n",
       "    </tr>\n",
       "    <tr>\n",
       "      <th>el</th>\n",
       "      <td>12</td>\n",
       "    </tr>\n",
       "    <tr>\n",
       "      <th>en</th>\n",
       "      <td>1000</td>\n",
       "    </tr>\n",
       "    <tr>\n",
       "      <th>es</th>\n",
       "      <td>63</td>\n",
       "    </tr>\n",
       "    <tr>\n",
       "      <th>fa</th>\n",
       "      <td>1000</td>\n",
       "    </tr>\n",
       "    <tr>\n",
       "      <th>fr</th>\n",
       "      <td>18</td>\n",
       "    </tr>\n",
       "    <tr>\n",
       "      <th>id</th>\n",
       "      <td>922</td>\n",
       "    </tr>\n",
       "    <tr>\n",
       "      <th>it</th>\n",
       "      <td>99</td>\n",
       "    </tr>\n",
       "    <tr>\n",
       "      <th>ja</th>\n",
       "      <td>19</td>\n",
       "    </tr>\n",
       "    <tr>\n",
       "      <th>kha</th>\n",
       "      <td>26</td>\n",
       "    </tr>\n",
       "    <tr>\n",
       "      <th>kk</th>\n",
       "      <td>24</td>\n",
       "    </tr>\n",
       "    <tr>\n",
       "      <th>ky</th>\n",
       "      <td>14</td>\n",
       "    </tr>\n",
       "    <tr>\n",
       "      <th>mk</th>\n",
       "      <td>40</td>\n",
       "    </tr>\n",
       "    <tr>\n",
       "      <th>ms</th>\n",
       "      <td>26</td>\n",
       "    </tr>\n",
       "    <tr>\n",
       "      <th>pt</th>\n",
       "      <td>30</td>\n",
       "    </tr>\n",
       "    <tr>\n",
       "      <th>ro</th>\n",
       "      <td>12</td>\n",
       "    </tr>\n",
       "    <tr>\n",
       "      <th>ru</th>\n",
       "      <td>1000</td>\n",
       "    </tr>\n",
       "    <tr>\n",
       "      <th>sr</th>\n",
       "      <td>1000</td>\n",
       "    </tr>\n",
       "    <tr>\n",
       "      <th>tg</th>\n",
       "      <td>15</td>\n",
       "    </tr>\n",
       "    <tr>\n",
       "      <th>th</th>\n",
       "      <td>327</td>\n",
       "    </tr>\n",
       "    <tr>\n",
       "      <th>tk</th>\n",
       "      <td>19</td>\n",
       "    </tr>\n",
       "    <tr>\n",
       "      <th>tr</th>\n",
       "      <td>21</td>\n",
       "    </tr>\n",
       "    <tr>\n",
       "      <th>uk</th>\n",
       "      <td>1000</td>\n",
       "    </tr>\n",
       "    <tr>\n",
       "      <th>uz</th>\n",
       "      <td>87</td>\n",
       "    </tr>\n",
       "    <tr>\n",
       "      <th>vi</th>\n",
       "      <td>11</td>\n",
       "    </tr>\n",
       "    <tr>\n",
       "      <th>zh</th>\n",
       "      <td>13</td>\n",
       "    </tr>\n",
       "  </tbody>\n",
       "</table>\n",
       "</div>"
      ],
      "text/plain": [
       "          Text\n",
       "Language      \n",
       "aa          11\n",
       "ab          11\n",
       "be          76\n",
       "bg         206\n",
       "da          81\n",
       "de          37\n",
       "el          12\n",
       "en        1000\n",
       "es          63\n",
       "fa        1000\n",
       "fr          18\n",
       "id         922\n",
       "it          99\n",
       "ja          19\n",
       "kha         26\n",
       "kk          24\n",
       "ky          14\n",
       "mk          40\n",
       "ms          26\n",
       "pt          30\n",
       "ro          12\n",
       "ru        1000\n",
       "sr        1000\n",
       "tg          15\n",
       "th         327\n",
       "tk          19\n",
       "tr          21\n",
       "uk        1000\n",
       "uz          87\n",
       "vi          11\n",
       "zh          13"
      ]
     },
     "execution_count": 3,
     "metadata": {},
     "output_type": "execute_result"
    },
    {
     "data": {
      "application/javascript": [
       "\n",
       "            setTimeout(function() {\n",
       "                var nbb_cell_id = 3;\n",
       "                var nbb_formatted_code = \"df_labels = df_train.groupby(\\\"Language\\\").count()\\ndf_labels\";\n",
       "                var nbb_cells = Jupyter.notebook.get_cells();\n",
       "                for (var i = 0; i < nbb_cells.length; ++i) {\n",
       "                    if (nbb_cells[i].input_prompt_number == nbb_cell_id) {\n",
       "                        nbb_cells[i].set_text(nbb_formatted_code);\n",
       "                        break;\n",
       "                    }\n",
       "                }\n",
       "            }, 500);\n",
       "            "
      ],
      "text/plain": [
       "<IPython.core.display.Javascript object>"
      ]
     },
     "metadata": {},
     "output_type": "display_data"
    }
   ],
   "source": [
    "df_labels = df_train.groupby(\"Language\").count()\n",
    "df_labels"
   ]
  },
  {
   "cell_type": "markdown",
   "metadata": {},
   "source": [
    "Чтож, видим что некоторые языки явно преобладают количеством;"
   ]
  },
  {
   "cell_type": "code",
   "execution_count": 4,
   "metadata": {},
   "outputs": [
    {
     "data": {
      "text/plain": [
       "<matplotlib.axes._subplots.AxesSubplot at 0x1a25198e80>"
      ]
     },
     "execution_count": 4,
     "metadata": {},
     "output_type": "execute_result"
    },
    {
     "data": {
      "image/png": "[encoded data removed]",
      "text/plain": [
       "<Figure size 432x288 with 1 Axes>"
      ]
     },
     "metadata": {
      "needs_background": "light"
     },
     "output_type": "display_data"
    },
    {
     "data": {
      "application/javascript": [
       "\n",
       "            setTimeout(function() {\n",
       "                var nbb_cell_id = 4;\n",
       "                var nbb_formatted_code = \"df_labels[\\\"Text\\\"].hist()\";\n",
       "                var nbb_cells = Jupyter.notebook.get_cells();\n",
       "                for (var i = 0; i < nbb_cells.length; ++i) {\n",
       "                    if (nbb_cells[i].input_prompt_number == nbb_cell_id) {\n",
       "                        nbb_cells[i].set_text(nbb_formatted_code);\n",
       "                        break;\n",
       "                    }\n",
       "                }\n",
       "            }, 500);\n",
       "            "
      ],
      "text/plain": [
       "<IPython.core.display.Javascript object>"
      ]
     },
     "metadata": {},
     "output_type": "display_data"
    }
   ],
   "source": [
    "df_labels[\"Text\"].hist()"
   ]
  },
  {
   "cell_type": "markdown",
   "metadata": {},
   "source": [
    "По этой гистограмме можно сказать, что языков, на которых дано менее 100 экземпляров текста, \n",
    "гораздо больше чем языков, на которых дано около 1000;"
   ]
  },
  {
   "cell_type": "markdown",
   "metadata": {},
   "source": [
    "Далее обработаем наши текстовые данные, с помощью токенизации разобьем тексты на токены (слова, знаки и тд).\n",
    "Уберем из них знаки пунктуации, #хештеги и @ссылки, приведем к нижнему регистру;\n",
    "Уточню, что удаление смайликов таким методом привело к чуть более худшему результату, так как пострадали некоторые тексты,например японский. Поэтому было решено оставить их.\n",
    "Так как некоторые тексты стостояли только из хештегов и ссылок, в данных появились пробелы, для того чтобы восполнить пробелы и оставить хоть какую то информацию, было решено пустые строки заменить на те хештеги и ссылки, которые были в изначальном тексте, предварительно убрав знаки @ и #."
   ]
  },
  {
   "cell_type": "code",
   "execution_count": 5,
   "metadata": {},
   "outputs": [
    {
     "data": {
      "application/javascript": [
       "\n",
       "            setTimeout(function() {\n",
       "                var nbb_cell_id = 5;\n",
       "                var nbb_formatted_code = \"def delete_hashtags(text):\\n    temp = []\\n    hashtag_pattern = re.compile(\\\"#\\\\S+\\\")\\n    at_pattern = re.compile(\\\"@\\\\S+\\\")\\n    for i in text:\\n        h = hashtag_pattern.sub(r\\\"\\\", str(i.split(\\\" \\\")))\\n        a = at_pattern.sub(r\\\"\\\", h)\\n        temp.append(a)\\n    return temp\\n\\n\\ndef preprocess_text(text):\\n    temp = []\\n    emoji_pattern = re.compile(\\n        \\\"[\\\"\\n        u\\\"\\\\U0001F600-\\\\U0001F64F\\\"  # emoticons\\n        u\\\"\\\\U0001F300-\\\\U0001F5FF\\\"  # symbols & pictographs\\n        u\\\"\\\\U0001F680-\\\\U0001F6FF\\\"  # transport & map symbols\\n        u\\\"\\\\U0001F1E0-\\\\U0001F1FF\\\"  # flags (iOS)\\n        u\\\"\\\\U00002702-\\\\U000027B0\\\"\\n        u\\\"\\\\U000024C2-\\\\U0001F251\\\"\\n        \\\"]+\\\",\\n        flags=re.UNICODE,\\n    )\\n\\n    for i in text:\\n        tokenizer = RegexpTokenizer(r\\\"\\\\w+\\\")\\n        tokens = tokenizer.tokenize(str(i).lower())\\n        tokens = [\\n            token\\n            for token in tokens\\n            if token != \\\" \\\" and token.strip() not in punctuation\\n            #             and emoji_pattern.sub(r\\\"\\\", token)\\n            and re.sub(r\\\"\\\\d+\\\", \\\"\\\", token)\\n        ]\\n\\n        i = \\\" \\\".join(tokens)\\n        temp.append(i)\\n    return temp\\n\\n\\ndef null_tokens(text):\\n    temp = []\\n    for k, i in enumerate(text):\\n        if i == \\\"\\\":\\n            i = re.sub(r\\\"\\\", df_train.Text[k], i)\\n            i = \\\" \\\".join(re.split(\\\"[#@]\\\", i))\\n        temp.append(i)\\n    return temp\";\n",
       "                var nbb_cells = Jupyter.notebook.get_cells();\n",
       "                for (var i = 0; i < nbb_cells.length; ++i) {\n",
       "                    if (nbb_cells[i].input_prompt_number == nbb_cell_id) {\n",
       "                        nbb_cells[i].set_text(nbb_formatted_code);\n",
       "                        break;\n",
       "                    }\n",
       "                }\n",
       "            }, 500);\n",
       "            "
      ],
      "text/plain": [
       "<IPython.core.display.Javascript object>"
      ]
     },
     "metadata": {},
     "output_type": "display_data"
    }
   ],
   "source": [
    "def delete_hashtags(text):\n",
    "    temp = []\n",
    "    hashtag_pattern = re.compile(\"#\\S+\")\n",
    "    at_pattern = re.compile(\"@\\S+\")\n",
    "    for i in text:\n",
    "        h = hashtag_pattern.sub(r\"\", str(i.split(\" \")))\n",
    "        a = at_pattern.sub(r\"\", h)\n",
    "        temp.append(a)\n",
    "    return temp\n",
    "\n",
    "\n",
    "def preprocess_text(text):\n",
    "    temp = []\n",
    "    emoji_pattern = re.compile(\n",
    "        \"[\"\n",
    "        u\"\\U0001F600-\\U0001F64F\"  # emoticons\n",
    "        u\"\\U0001F300-\\U0001F5FF\"  # symbols & pictographs\n",
    "        u\"\\U0001F680-\\U0001F6FF\"  # transport & map symbols\n",
    "        u\"\\U0001F1E0-\\U0001F1FF\"  # flags (iOS)\n",
    "        u\"\\U00002702-\\U000027B0\"\n",
    "        u\"\\U000024C2-\\U0001F251\"\n",
    "        \"]+\",\n",
    "        flags=re.UNICODE,\n",
    "    )\n",
    "\n",
    "    for i in text:\n",
    "        tokenizer = RegexpTokenizer(r\"\\w+\")\n",
    "        tokens = tokenizer.tokenize(str(i).lower())\n",
    "        tokens = [\n",
    "            token\n",
    "            for token in tokens\n",
    "            if token != \" \" and token.strip() not in punctuation\n",
    "            #             and emoji_pattern.sub(r\"\", token)\n",
    "            and re.sub(r\"\\d+\", \"\", token)\n",
    "        ]\n",
    "\n",
    "        i = \" \".join(tokens)\n",
    "        temp.append(i)\n",
    "    return temp\n",
    "\n",
    "\n",
    "def null_tokens(text):\n",
    "    temp = []\n",
    "    for k, i in enumerate(text):\n",
    "        if i == \"\":\n",
    "            i = re.sub(r\"\", df_train.Text[k], i)\n",
    "            i = \" \".join(re.split(\"[#@]\", i))\n",
    "        temp.append(i)\n",
    "    return temp"
   ]
  },
  {
   "cell_type": "code",
   "execution_count": 6,
   "metadata": {},
   "outputs": [
    {
     "data": {
      "application/vnd.jupyter.widget-view+json": {
       "model_id": "dabf092e17b94978a657dce21db200f2",
       "version_major": 2,
       "version_minor": 0
      },
      "text/plain": [
       "HBox(children=(IntProgress(value=0, max=7220), HTML(value='')))"
      ]
     },
     "metadata": {},
     "output_type": "display_data"
    },
    {
     "name": "stdout",
     "output_type": "stream",
     "text": [
      "\n",
      "CPU times: user 1.38 s, sys: 34.3 ms, total: 1.41 s\n",
      "Wall time: 1.43 s\n"
     ]
    },
    {
     "data": {
      "application/javascript": [
       "\n",
       "            setTimeout(function() {\n",
       "                var nbb_cell_id = 6;\n",
       "                var nbb_formatted_code = \"%%time\\ntext_clean = delete_hashtags(df_train.Text)\\ntext_clean = preprocess_text(tqdm(text_clean))\\ntext_clean = null_tokens(text_clean)\";\n",
       "                var nbb_cells = Jupyter.notebook.get_cells();\n",
       "                for (var i = 0; i < nbb_cells.length; ++i) {\n",
       "                    if (nbb_cells[i].input_prompt_number == nbb_cell_id) {\n",
       "                        nbb_cells[i].set_text(nbb_formatted_code);\n",
       "                        break;\n",
       "                    }\n",
       "                }\n",
       "            }, 500);\n",
       "            "
      ],
      "text/plain": [
       "<IPython.core.display.Javascript object>"
      ]
     },
     "metadata": {},
     "output_type": "display_data"
    }
   ],
   "source": [
    "text_clean = delete_hashtags(df_train.Text)\n",
    "text_clean = preprocess_text(tqdm(text_clean))\n",
    "text_clean = null_tokens(text_clean)"
   ]
  },
  {
   "cell_type": "markdown",
   "metadata": {},
   "source": [
    "Для определения языка можно воспользоваться готовыми библиотеками например langdetect и cld2.\n",
    "Оба классификатора основаны на Наивном Байевском фильтре. \n",
    "Посмотрим сначала какие результаты нам дает библиотека langdetect."
   ]
  },
  {
   "cell_type": "code",
   "execution_count": 8,
   "metadata": {},
   "outputs": [
    {
     "name": "stdout",
     "output_type": "stream",
     "text": [
      "0.6475069252077562\n",
      "CPU times: user 1min 14s, sys: 1.42 s, total: 1min 15s\n",
      "Wall time: 1min 16s\n"
     ]
    },
    {
     "data": {
      "application/javascript": [
       "\n",
       "            setTimeout(function() {\n",
       "                var nbb_cell_id = 8;\n",
       "                var nbb_formatted_code = \"%%time\\nfrom langdetect import detect, detect_langs\\nfrom langdetect import DetectorFactory\\n\\nDetectorFactory.seed = 0\\npred_ld = []\\nfor i in text_clean[:]:\\n    pred_ld.append(detect(i))\\nprint(accuracy_score(df_train.Language, pred_ld))\";\n",
       "                var nbb_cells = Jupyter.notebook.get_cells();\n",
       "                for (var i = 0; i < nbb_cells.length; ++i) {\n",
       "                    if (nbb_cells[i].input_prompt_number == nbb_cell_id) {\n",
       "                        nbb_cells[i].set_text(nbb_formatted_code);\n",
       "                        break;\n",
       "                    }\n",
       "                }\n",
       "            }, 500);\n",
       "            "
      ],
      "text/plain": [
       "<IPython.core.display.Javascript object>"
      ]
     },
     "metadata": {},
     "output_type": "display_data"
    }
   ],
   "source": [
    "%%time\n",
    "from langdetect import detect, detect_langs\n",
    "from langdetect import DetectorFactory\n",
    "\n",
    "DetectorFactory.seed = 0\n",
    "pred_ld = []\n",
    "for i in text_clean[:]:\n",
    "    pred_ld.append(detect(i))\n",
    "print(accuracy_score(df_train.Language, pred_ld))"
   ]
  },
  {
   "cell_type": "markdown",
   "metadata": {},
   "source": [
    "Результат не очень хороший, чуть более половины предсказывает правильно, но треть текстов определяет неверно. Это происходит, потому что данная библиотека классифицирует только 55 языков. В наших данных имеются тексты на языках, которые классификатор просто не знает.\n",
    "Рассмотрим библиотеку cld2."
   ]
  },
  {
   "cell_type": "code",
   "execution_count": 9,
   "metadata": {},
   "outputs": [
    {
     "name": "stdout",
     "output_type": "stream",
     "text": [
      "0.7558171745152354\n",
      "CPU times: user 551 ms, sys: 50.6 ms, total: 602 ms\n",
      "Wall time: 612 ms\n"
     ]
    },
    {
     "data": {
      "application/javascript": [
       "\n",
       "            setTimeout(function() {\n",
       "                var nbb_cell_id = 9;\n",
       "                var nbb_formatted_code = \"%%time\\nimport cld2\\n\\npred_cld2 = []\\nfor i in text_clean[:]:\\n    isReliable, textBytesFound, details = cld2.detect(i)\\n    pred_cld2.append(details[0][1])\\nprint(accuracy_score(df_train.Language, pred_cld2))\";\n",
       "                var nbb_cells = Jupyter.notebook.get_cells();\n",
       "                for (var i = 0; i < nbb_cells.length; ++i) {\n",
       "                    if (nbb_cells[i].input_prompt_number == nbb_cell_id) {\n",
       "                        nbb_cells[i].set_text(nbb_formatted_code);\n",
       "                        break;\n",
       "                    }\n",
       "                }\n",
       "            }, 500);\n",
       "            "
      ],
      "text/plain": [
       "<IPython.core.display.Javascript object>"
      ]
     },
     "metadata": {},
     "output_type": "display_data"
    }
   ],
   "source": [
    "%%time\n",
    "import cld2\n",
    "\n",
    "pred_cld2 = []\n",
    "for i in text_clean[:]:\n",
    "    isReliable, textBytesFound, details = cld2.detect(i)\n",
    "    pred_cld2.append(details[0][1])\n",
    "print(accuracy_score(df_train.Language, pred_cld2))"
   ]
  },
  {
   "cell_type": "markdown",
   "metadata": {},
   "source": [
    "Видим, что результат улучшился, но нам все равно не достаточно точности, хоть эта библиотека и распознает 161 язык. \n",
    "Но библиотека cld2 на самом деле распознает ограниченный список языков, всего 83, для того чтобы воспользоваться всеми 161 рассмотрим библиотеку cld2full."
   ]
  },
  {
   "cell_type": "code",
   "execution_count": 10,
   "metadata": {},
   "outputs": [
    {
     "name": "stdout",
     "output_type": "stream",
     "text": [
      "0.9073407202216066\n",
      "CPU times: user 560 ms, sys: 46.6 ms, total: 607 ms\n",
      "Wall time: 610 ms\n"
     ]
    },
    {
     "data": {
      "application/javascript": [
       "\n",
       "            setTimeout(function() {\n",
       "                var nbb_cell_id = 10;\n",
       "                var nbb_formatted_code = \"%%time\\nimport cld2full\\n\\npred_cld2full = []\\nfor i in text_clean[:]:\\n    isReliable, textBytesFound, details = cld2full.detect(i)\\n    pred_cld2full.append(details[0][1])\\nprint(accuracy_score(df_train.Language, pred_cld2full))\";\n",
       "                var nbb_cells = Jupyter.notebook.get_cells();\n",
       "                for (var i = 0; i < nbb_cells.length; ++i) {\n",
       "                    if (nbb_cells[i].input_prompt_number == nbb_cell_id) {\n",
       "                        nbb_cells[i].set_text(nbb_formatted_code);\n",
       "                        break;\n",
       "                    }\n",
       "                }\n",
       "            }, 500);\n",
       "            "
      ],
      "text/plain": [
       "<IPython.core.display.Javascript object>"
      ]
     },
     "metadata": {},
     "output_type": "display_data"
    }
   ],
   "source": [
    "%%time\n",
    "import cld2full\n",
    "\n",
    "pred_cld2full = []\n",
    "for i in text_clean[:]:\n",
    "    isReliable, textBytesFound, details = cld2full.detect(i)\n",
    "    pred_cld2full.append(details[0][1])\n",
    "print(accuracy_score(df_train.Language, pred_cld2full))"
   ]
  },
  {
   "cell_type": "code",
   "execution_count": null,
   "metadata": {},
   "outputs": [],
   "source": [
    "Также, время выполнения библиотеки cld2 гораздо меньше чем у библиотеки langdetect."
   ]
  }
 ],
 "metadata": {
  "kernelspec": {
   "display_name": "Python 3",
   "language": "python",
   "name": "python3"
  },
  "language_info": {
   "codemirror_mode": {
    "name": "ipython",
    "version": 3
   },
   "file_extension": ".py",
   "mimetype": "text/x-python",
   "name": "python",
   "nbconvert_exporter": "python",
   "pygments_lexer": "ipython3",
   "version": "3.7.2"
  }
 },
 "nbformat": 4,
 "nbformat_minor": 2
}
